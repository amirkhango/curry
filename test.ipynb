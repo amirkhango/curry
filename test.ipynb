{
 "cells": [
  {
   "cell_type": "code",
   "execution_count": 1,
   "metadata": {},
   "outputs": [
    {
     "name": "stderr",
     "output_type": "stream",
     "text": [
      "Using TensorFlow backend.\n"
     ]
    },
    {
     "name": "stdout",
     "output_type": "stream",
     "text": [
      "test!\n"
     ]
    },
    {
     "data": {
      "text/plain": [
       "'channels_first'"
      ]
     },
     "execution_count": 1,
     "metadata": {},
     "output_type": "execute_result"
    }
   ],
   "source": [
    "from __future__ import print_function\n",
    "import os\n",
    "import pickle\n",
    "import numpy as np\n",
    "import math\n",
    "from keras.optimizers import Adam\n",
    "from keras.callbacks import EarlyStopping, ModelCheckpoint\n",
    "from deepst.models.STResNet import stresnet\n",
    "from deepst.models.STConvolution import binCNN_CPTM\n",
    "from deepst.config import Config\n",
    "import deepst.metrics as metrics\n",
    "np.random.seed(1337)  # for reproducibility\n",
    "import keras\n",
    "from keras.utils.vis_utils import plot_model\n",
    "from testmodel import stresnet as st\n",
    "from deepst.datasets import BikeNYC\n",
    "from importlib import reload\n",
    "BikeNYC=reload(BikeNYC)\n",
    "keras.backend.image_data_format()"
   ]
  },
  {
   "cell_type": "code",
   "execution_count": 2,
   "metadata": {},
   "outputs": [
    {
     "name": "stdout",
     "output_type": "stream",
     "text": [
      "factor:  1.2570787221094177\n"
     ]
    }
   ],
   "source": [
    "# parameters\n",
    "# data path, you may set your own data path with the global envirmental\n",
    "# variable DATAPATH\n",
    "DATAPATH = Config().DATAPATH\n",
    "nb_epoch = 500  # number of epoch at training stage\n",
    "nb_epoch_cont = 100  # number of epoch at training (cont) stage\n",
    "batch_size = 32  # batch size\n",
    "T = 24  # number of time intervals in one day\n",
    "\n",
    "lr = 0.0002  # learning rate\n",
    "len_closeness = 3  # length of closeness dependent sequence\n",
    "len_period = 4  # length of peroid dependent sequence\n",
    "len_trend = 4  # length of trend dependent sequence\n",
    "nb_residual_unit = 4   # number of residual units\n",
    "\n",
    "nb_flow = 2  # there are two types of flows: new-flow and end-flow\n",
    "# divide data into two subsets: Train & Test, of which the test set is the\n",
    "# last 10 da ys\n",
    "days_test = 10\n",
    "len_test = T * days_test\n",
    "map_height, map_width = 16, 8  # grid size\n",
    "# For NYC Bike data, there are 81 available grid-based areas, each of\n",
    "# which includes at least ONE bike station. Therefore, we modify the final\n",
    "# RMSE by multiplying the following factor (i.e., factor).\n",
    "nb_area = 81\n",
    "m_factor = math.sqrt(1. * map_height * map_width / nb_area)\n",
    "print('factor: ', m_factor)\n",
    "path_result = 'Test_RET'\n",
    "path_model = 'Test_MODEL'\n",
    "if os.path.isdir(path_result) is False:\n",
    "    os.mkdir(path_result)\n",
    "if os.path.isdir(path_model) is False:\n",
    "    os.mkdir(path_model)"
   ]
  },
  {
   "cell_type": "code",
   "execution_count": null,
   "metadata": {
    "collapsed": true
   },
   "outputs": [],
   "source": [
    "def build_model(external_dim):\n",
    "    c_conf = (len_closeness, nb_flow, map_height,\n",
    "              map_width) if len_closeness > 0 else None\n",
    "    p_conf = (len_period, nb_flow, map_height,\n",
    "              map_width) if len_period > 0 else None\n",
    "    t_conf = (len_trend, nb_flow, map_height,\n",
    "              map_width) if len_trend > 0 else None\n",
    "\n",
    "    #model = st(c_conf=c_conf, p_conf=p_conf, t_conf=t_conf,\n",
    "    #                 external_dim=external_dim, nb_residual_unit=nb_residual_unit)\n",
    "    \n",
    "    model = binCNN(c_conf=c_conf, p_conf=p_conf, t_conf=t_conf)\n",
    "    \n",
    "    adam = Adam(lr=lr)\n",
    "    model.compile(loss='mse', optimizer=adam, metrics=[metrics.rmse])\n",
    "    model.summary()    \n",
    "    return model"
   ]
  },
  {
   "cell_type": "code",
   "execution_count": null,
   "metadata": {},
   "outputs": [],
   "source": [
    "model = build_model(external_dim=8)"
   ]
  },
  {
   "cell_type": "code",
   "execution_count": null,
   "metadata": {
    "collapsed": true
   },
   "outputs": [],
   "source": [
    "plot_model(model, to_file= os.path.join(path_model,'binCNN.png'), show_shapes=True)"
   ]
  },
  {
   "cell_type": "code",
   "execution_count": null,
   "metadata": {
    "collapsed": true
   },
   "outputs": [],
   "source": [
    "print(\"loading data...\")\n",
    "three_models = True # If true, split Closeness, Period and Trend into 3 sub-CNN respectively.\n",
    "\n",
    "# data_numbers=None will use all data, this could be very slowly.\n",
    "# data_numbers=800 will use only 800 series for trying on small data.\n",
    "X_train_ALL, X_test_ALL, X_train, Y_train, X_test, Y_test, mmn, external_dim, timestamp_train, timestamp_test = BikeNYC.load_data(\n",
    "    T=T, nb_flow=nb_flow, len_closeness=len_closeness, len_period=len_period, len_trend=len_trend, len_test=len_test,\n",
    "    preprocess_name='preprocessing.pkl', meta_data=False, data_numbers=1500)\n",
    "\n",
    "print(\"\\n days (test): \", [v[:8] for v in timestamp_test[0::T]])\n",
    "\n",
    "print('=' * 10)\n",
    "print(\"compiling model...\")\n",
    "print(\n",
    "    \"**at the first time, it takes a few minites to compile if you use [Theano] as the backend**\")\n",
    "print('external_dim is:', external_dim)"
   ]
  },
  {
   "cell_type": "code",
   "execution_count": null,
   "metadata": {},
   "outputs": [],
   "source": [
    "hyperparams_name = 'binCNN_c{}.p{}.t{}.resunit{}.lr{}'.format(\\\n",
    "    len_closeness, len_period, len_trend, nb_residual_unit, lr)\n",
    "fname_param = os.path.join(path_model, '{}.best.h5'.format(hyperparams_name))\n",
    "\n",
    "early_stopping = EarlyStopping(monitor='val_rmse', patience=5, mode='min')\n",
    "model_checkpoint = ModelCheckpoint(\n",
    "    fname_param, monitor='val_rmse', verbose=0, save_best_only=True, mode='min')\n",
    "\n",
    "print('=' * 10)\n",
    "print(\"training model...\")\n",
    "history = model.fit(X_train_ALL, Y_train,\n",
    "                    epochs=nb_epoch,\n",
    "                    batch_size=batch_size,\n",
    "                    validation_split=0.1,\n",
    "                    callbacks=[early_stopping, model_checkpoint],\n",
    "                    verbose=1)"
   ]
  },
  {
   "cell_type": "code",
   "execution_count": null,
   "metadata": {
    "collapsed": true
   },
   "outputs": [],
   "source": [
    "from deepst.models.STConvolution import binCNN_CPTM\n",
    "def build_model2(external_dim):\n",
    "    c_conf = (len_closeness, nb_flow, map_height,\n",
    "              map_width) if len_closeness > 0 else None\n",
    "    p_conf = (len_period, nb_flow, map_height,\n",
    "              map_width) if len_period > 0 else None\n",
    "    t_conf = (len_trend, nb_flow, map_height,\n",
    "              map_width) if len_trend > 0 else None\n",
    "\n",
    "    #model = st(c_conf=c_conf, p_conf=p_conf, t_conf=t_conf,\n",
    "    #                 external_dim=external_dim, nb_residual_unit=nb_residual_unit)\n",
    "    \n",
    "    model = binCNN_CPTM(c_conf=c_conf, p_conf=p_conf, t_conf=t_conf, metadata_dim=8)\n",
    "    \n",
    "    adam = Adam(lr=lr)\n",
    "    model.compile(loss='mse', optimizer=adam, metrics=[metrics.rmse])\n",
    "    model.summary()    \n",
    "    return model"
   ]
  },
  {
   "cell_type": "code",
   "execution_count": null,
   "metadata": {},
   "outputs": [],
   "source": [
    "model2 = build_model2(external_dim=8)"
   ]
  },
  {
   "cell_type": "code",
   "execution_count": null,
   "metadata": {},
   "outputs": [],
   "source": [
    "plot_model(model2, to_file= os.path.join(path_model,'binCNN_CPTM.png'), show_shapes=True)"
   ]
  },
  {
   "cell_type": "code",
   "execution_count": null,
   "metadata": {},
   "outputs": [],
   "source": [
    "print(\"loading data...\")\n",
    "three_models = True # If true, split Closeness, Period and Trend into 3 sub-CNN respectively.\n",
    "\n",
    "# data_numbers=None will use all data, this could be very slowly.\n",
    "# data_numbers=800 will use only 800 series for trying on small data.\n",
    "X_train_ALL, X_test_ALL, X_train, Y_train, X_test, Y_test, mmn, external_dim, timestamp_train, timestamp_test = BikeNYC.load_data(\n",
    "    T=T, nb_flow=nb_flow, len_closeness=len_closeness, len_period=len_period, len_trend=len_trend, len_test=len_test,\n",
    "    preprocess_name='preprocessing.pkl', meta_data=True, data_numbers=1500)\n",
    "\n",
    "print(\"\\n days (test): \", [v[:8] for v in timestamp_test[0::T]])\n",
    "\n",
    "print('=' * 10)\n",
    "print(\"compiling model...\")\n",
    "print(\n",
    "    \"**at the first time, it takes a few minites to compile if you use [Theano] as the backend**\")\n",
    "print('external_dim is:', external_dim)"
   ]
  },
  {
   "cell_type": "code",
   "execution_count": null,
   "metadata": {},
   "outputs": [],
   "source": [
    "print('X_train_ALL shape is:', X_train_ALL[0].shape, X_train_ALL[1].shape )\n",
    "print('X_test_ALL shape is:', X_test_ALL[0].shape, X_test_ALL[1].shape)"
   ]
  },
  {
   "cell_type": "code",
   "execution_count": null,
   "metadata": {},
   "outputs": [],
   "source": [
    "hyperparams_name = 'binCNN_CPTM_c{}.p{}.t{}.resunit{}.lr{}'.format(\n",
    "    len_closeness, len_period, len_trend, nb_residual_unit, lr)\n",
    "fname_param = os.path.join(path_model, '{}.best.h5'.format(hyperparams_name))\n",
    "\n",
    "early_stopping = EarlyStopping(monitor='val_rmse', patience=5, mode='min')\n",
    "model_checkpoint = ModelCheckpoint(\n",
    "    fname_param, monitor='val_rmse', verbose=0, save_best_only=True, mode='min')\n",
    "\n",
    "print('=' * 10)\n",
    "print(\"training model...\")\n",
    "\n",
    "history = model2.fit(X_train_ALL, Y_train,\n",
    "                    epochs=nb_epoch,\n",
    "                    batch_size=batch_size,\n",
    "                    validation_split=0.1,\n",
    "                    callbacks=[early_stopping, model_checkpoint],\n",
    "                    verbose=1)"
   ]
  },
  {
   "cell_type": "code",
   "execution_count": null,
   "metadata": {
    "collapsed": true
   },
   "outputs": [],
   "source": []
  }
 ],
 "metadata": {
  "kernelspec": {
   "display_name": "Python 3",
   "language": "python",
   "name": "python3"
  },
  "language_info": {
   "codemirror_mode": {
    "name": "ipython",
    "version": 3
   },
   "file_extension": ".py",
   "mimetype": "text/x-python",
   "name": "python",
   "nbconvert_exporter": "python",
   "pygments_lexer": "ipython3",
   "version": "3.5.4"
  }
 },
 "nbformat": 4,
 "nbformat_minor": 2
}
