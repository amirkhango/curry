{
 "cells": [
  {
   "cell_type": "code",
   "execution_count": 1,
   "metadata": {},
   "outputs": [
    {
     "name": "stderr",
     "output_type": "stream",
     "text": [
      "Using TensorFlow backend.\n"
     ]
    },
    {
     "name": "stdout",
     "output_type": "stream",
     "text": [
      "test!\n"
     ]
    }
   ],
   "source": [
    "from __future__ import print_function\n",
    "\n",
    "from keras.models import Sequential\n",
    "from keras.layers.convolutional import Conv3D\n",
    "from keras.layers.convolutional import Conv2D\n",
    "from keras.layers.convolutional_recurrent import ConvLSTM2D\n",
    "from keras.layers.normalization import BatchNormalization\n",
    "from keras.optimizers import Adam\n",
    "from keras.callbacks import EarlyStopping, ModelCheckpoint\n",
    "import numpy as np\n",
    "import matplotlib.pyplot as plt\n",
    "import os\n",
    "import deepst.metrics as metrics\n",
    "from deepst.datasets import BikeNYC\n",
    "import math\n",
    "import pickle\n",
    "import time"
   ]
  },
  {
   "cell_type": "code",
   "execution_count": 2,
   "metadata": {
    "collapsed": true
   },
   "outputs": [],
   "source": [
    "#import pylab as plt\n",
    "# We create a layer which take as input movies of shape\n",
    "# (n_frames, width, height, channels) and returns a movie\n",
    "# of identical shape.\n",
    "map_height, map_width = 16, 8  # grid size\n",
    "nb_area = 81\n",
    "m_factor = math.sqrt(1. * map_height * map_width / nb_area)\n",
    "days_test = 10\n",
    "T = 24\n",
    "len_test = T * days_test\n",
    "lr = 0.001  # learning rate\n",
    "nb_epoch =40\n",
    "nb_cont_epoch = 10\n",
    "batch_size =32\n",
    "seq_length=12\n",
    "PATH_RESULT='Test_RET'\n",
    "PATH_MODEL='Test_MODEL'\n",
    "num_layers=3\n",
    "test_data_nums =None"
   ]
  },
  {
   "cell_type": "code",
   "execution_count": 3,
   "metadata": {},
   "outputs": [
    {
     "name": "stdout",
     "output_type": "stream",
     "text": [
      "Test_MODEL/b32.Conv2DLSTM_layers3.SeqLen12.Conv2D_LSTM_BikeNYC.lr0.001.cont.best.h5\n",
      "Test_RET/b32.Conv2DLSTM_layers3.SeqLen12.Conv2D_LSTM_BikeNYC.lr0.001.cont.history.pkl\n"
     ]
    }
   ],
   "source": [
    "hyperparams_name = 'b{}.Conv2DLSTM_layers{}.SeqLen{}.Conv2D_LSTM_BikeNYC.lr{}'.format(\n",
    "        batch_size, num_layers, seq_length, lr)\n",
    "\n",
    "fname_param = os.path.join(PATH_MODEL, '{}.cont.best.h5'.format(hyperparams_name))\n",
    "\n",
    "history_files = 'b{}.Conv2DLSTM_layers{}.SeqLen{}.Conv2D_LSTM_BikeNYC.lr{}'.format(\n",
    "        batch_size, num_layers, seq_length, lr)\n",
    "\n",
    "history_path = os.path.join(PATH_RESULT, '{}.cont.history.pkl'.format(hyperparams_name))\n",
    "\n",
    "print(fname_param)\n",
    "print(history_path)"
   ]
  },
  {
   "cell_type": "code",
   "execution_count": 4,
   "metadata": {},
   "outputs": [
    {
     "name": "stdout",
     "output_type": "stream",
     "text": [
      "_________________________________________________________________\n",
      "Layer (type)                 Output Shape              Param #   \n",
      "=================================================================\n",
      "conv_lst_m2d_1 (ConvLSTM2D)  (None, None, 32, 16, 8)   39296     \n",
      "_________________________________________________________________\n",
      "batch_normalization_1 (Batch (None, None, 32, 16, 8)   32        \n",
      "_________________________________________________________________\n",
      "conv_lst_m2d_2 (ConvLSTM2D)  (None, None, 32, 16, 8)   73856     \n",
      "_________________________________________________________________\n",
      "batch_normalization_2 (Batch (None, None, 32, 16, 8)   32        \n",
      "_________________________________________________________________\n",
      "conv_lst_m2d_3 (ConvLSTM2D)  (None, 32, 16, 8)         73856     \n",
      "_________________________________________________________________\n",
      "batch_normalization_3 (Batch (None, 32, 16, 8)         32        \n",
      "_________________________________________________________________\n",
      "conv2d_1 (Conv2D)            (None, 2, 16, 8)          578       \n",
      "=================================================================\n",
      "Total params: 187,682\n",
      "Trainable params: 187,634\n",
      "Non-trainable params: 48\n",
      "_________________________________________________________________\n"
     ]
    }
   ],
   "source": [
    "def build_model():\n",
    "    seq = Sequential()\n",
    "    \n",
    "    seq.add(ConvLSTM2D(filters=32, kernel_size=(3, 3),\n",
    "                       input_shape = (None, 2, map_height, map_width),\n",
    "                       padding='same', activation='relu', return_sequences=True, data_format='channels_first'))\n",
    "    seq.add(BatchNormalization())\n",
    "\n",
    "    seq.add(ConvLSTM2D(filters=32, kernel_size=(3, 3),\n",
    "         padding='same', activation='relu', return_sequences=True, data_format='channels_first'))\n",
    "    seq.add(BatchNormalization())\n",
    "\n",
    "    seq.add(ConvLSTM2D(filters=32, kernel_size=(3, 3),\n",
    "         padding='same', activation='tanh', return_sequences=False, data_format='channels_first'))\n",
    "    seq.add(BatchNormalization())\n",
    "\n",
    "    seq.add(Conv2D(filters=2, kernel_size=(3, 3),\n",
    "                   activation='tanh',\n",
    "                   padding='same', data_format='channels_first'))\n",
    "\n",
    "    adam = Adam(lr=lr)\n",
    "    seq.compile(loss='mse', optimizer=adam, metrics=[metrics.rmse])\n",
    "    seq.summary()\n",
    "\n",
    "    return seq\n",
    "\n",
    "seq = build_model()\n",
    "seq.load_weights(fname_param)"
   ]
  },
  {
   "cell_type": "code",
   "execution_count": 5,
   "metadata": {},
   "outputs": [
    {
     "name": "stdout",
     "output_type": "stream",
     "text": [
      "==========\n",
      "Load cont.history.pkl File\n",
      "\n",
      "val_rmse [0.040628875022236242, 0.042930871572855599, 0.039519910387602088, 0.040782798143466976, 0.039633846119108043, 0.041066968094758474, 0.045675578531016947, 0.038425989835465101, 0.039401440854141823, 0.03937731933667947]\n",
      "\n",
      "val_loss [0.0016600336508508539, 0.0018520916220867289, 0.0015706060525740948, 0.0016770269673441333, 0.0015837565504972866, 0.0017046765289056845, 0.0021289407924837841, 0.0014859167424212229, 0.0015646029433768814, 0.0015588805091053372]\n",
      "\n",
      "loss [0.001584444220739683, 0.0015243477331833091, 0.001497171116049133, 0.001446424024161577, 0.0014401354646302561, 0.0013998799349128927, 0.0014779026352663848, 0.0014429745531777528, 0.0014228011152609609, 0.0013620163334633027]\n",
      "\n",
      "rmse [0.039501081283583851, 0.038725387284320227, 0.038408796980483835, 0.037726770481623498, 0.037693885559367798, 0.037144143431370714, 0.038193684680633541, 0.037692526191127389, 0.037466407593543992, 0.036662036431069016]\n",
      "\n"
     ]
    }
   ],
   "source": [
    "print('=' * 10)\n",
    "print('Load cont.history.pkl File')\n",
    "print()\n",
    "\n",
    "with open(history_path, 'rb') as f:\n",
    "    x = pickle.load(f)\n",
    "    for k,v in x.items():\n",
    "        print(k,v)\n",
    "        print()"
   ]
  },
  {
   "cell_type": "code",
   "execution_count": 6,
   "metadata": {},
   "outputs": [
    {
     "name": "stdout",
     "output_type": "stream",
     "text": [
      "loading data...\n",
      "incomplete days:  []\n",
      "The length of dataseq is: 4392\n",
      "min: 0.0 max: 267.0\n",
      "X_data shape is (4380, 12, 2, 16, 8)\n",
      "Y_data shape is (4380, 2, 16, 8)\n",
      "X_train shape is (4139, 12, 2, 16, 8)\n",
      "Y_train shape is (4139, 2, 16, 8)\n",
      "X_test shape is (241, 12, 2, 16, 8)\n",
      "Y_test shape is (241, 2, 16, 8)\n"
     ]
    }
   ],
   "source": [
    "print(\"loading data...\")\n",
    "X_train, Y_train, X_test, Y_test, X_timestamps, Y_timestamps, mmn = BikeNYC.load_sequence(seq_length=seq_length, T=24, \n",
    "                                    test_percent=0.055, data_numbers=test_data_nums)   \n",
    "print('X_train shape is', X_train.shape)\n",
    "print('Y_train shape is', Y_train.shape)\n",
    "print('X_test shape is', X_test.shape)\n",
    "print('Y_test shape is', Y_test.shape)"
   ]
  },
  {
   "cell_type": "code",
   "execution_count": 28,
   "metadata": {},
   "outputs": [
    {
     "name": "stdout",
     "output_type": "stream",
     "text": [
      "evaluating using the model that has the best loss on the valid set\n",
      "Train score: 0.001387 rmse (norm): 0.036914 rmse (real): 6.194902\n",
      "Time used on CPU: 1093.461916\n"
     ]
    }
   ],
   "source": [
    "start = time.clock()\n",
    "print('evaluating using the model that has the best loss on the valid set')\n",
    "score = seq.evaluate(X_train, Y_train, batch_size=batch_size, verbose=0)\n",
    "print('Train score: %.6f rmse (norm): %.6f rmse (real): %.6f' %\n",
    "      (score[0], score[1], score[1] * (mmn._max - mmn._min) / 2. * m_factor))\n",
    "\n",
    "elapsed = (time.clock() - start)\n",
    "print(\"Time used on CPU:\",elapsed)"
   ]
  },
  {
   "cell_type": "code",
   "execution_count": 7,
   "metadata": {},
   "outputs": [
    {
     "name": "stdout",
     "output_type": "stream",
     "text": [
      "241/241 [==============================] - 22s\n",
      "Test score: 0.001559 rmse (norm): 0.039483 rmse (real): 6.625970\n",
      "Time used on CPU: 64.649894\n"
     ]
    }
   ],
   "source": [
    "# Evaluate with batch_size=1\n",
    "start = time.clock()\n",
    "score = seq.evaluate(X_test, Y_test, batch_size=Y_test.shape[0], verbose=1)\n",
    "print('Test score: %.6f rmse (norm): %.6f rmse (real): %.6f' %\n",
    "      (score[0], score[1], score[1] * (mmn._max - mmn._min) / 2. * m_factor))\n",
    "\n",
    "elapsed = (time.clock() - start)\n",
    "print(\"Time used on CPU:\",elapsed)"
   ]
  },
  {
   "cell_type": "code",
   "execution_count": 17,
   "metadata": {},
   "outputs": [
    {
     "name": "stdout",
     "output_type": "stream",
     "text": [
      "(12, 2, 16, 8)\n",
      "(1, 2, 16, 8)\n",
      "Test score: 0.000482 rmse (norm): 0.021957 rmse (real): 3.684753\n",
      "Time used on CPU: 0.26977100000000576\n"
     ]
    }
   ],
   "source": [
    "# One-step predict for one sequence\n",
    "\n",
    "print(X_test[1].shape)\n",
    "print(np.expand_dims(Y_test[0], axis=0).shape)\n",
    "\n",
    "start = time.clock()\n",
    "score = seq.evaluate(np.expand_dims(X_test[1], axis=0), np.expand_dims(Y_test[1], axis=0), batch_size=1, verbose=0)\n",
    "print('Test score: %.6f rmse (norm): %.6f rmse (real): %.6f' %\n",
    "      (score[0], score[1], score[1] * (mmn._max - mmn._min) / 2. * m_factor))\n",
    "elapsed = (time.clock() - start)\n",
    "print(\"Time used on CPU:\",elapsed)"
   ]
  },
  {
   "cell_type": "code",
   "execution_count": 84,
   "metadata": {},
   "outputs": [
    {
     "name": "stdout",
     "output_type": "stream",
     "text": [
      "batch_size is, 32\n",
      "Test score: 0.000577 rmse (norm): 0.023933 rmse (real): 4.016504\n",
      "Time used on CPU: 0.5396189999999024\n"
     ]
    }
   ],
   "source": [
    "# One-step predict for TWO sequence\n",
    "print('batch_size is,', batch_size)\n",
    "start = time.clock()\n",
    "score = seq.evaluate(X_test[0:2], Y_test[0:2], batch_size=1, verbose=0)\n",
    "print('Test score: %.6f rmse (norm): %.6f rmse (real): %.6f' %\n",
    "      (score[0], score[1], score[1] * (mmn._max - mmn._min) / 2. * m_factor))\n",
    "elapsed = (time.clock() - start)\n",
    "print(\"Time used on CPU:\",elapsed)"
   ]
  },
  {
   "cell_type": "code",
   "execution_count": 62,
   "metadata": {},
   "outputs": [
    {
     "name": "stdout",
     "output_type": "stream",
     "text": [
      "(1, 2, 16, 8)\n",
      "Inflow prediction:\n"
     ]
    },
    {
     "data": {
      "image/png": "[encoded data removed]",
      "text/plain": [
       "<matplotlib.figure.Figure at 0x116971400>"
      ]
     },
     "metadata": {},
     "output_type": "display_data"
    }
   ],
   "source": [
    "#visulization\n",
    "%matplotlib inline\n",
    "\n",
    "pred_nums=1\n",
    "pred = seq.predict(np.expand_dims(X_test[0], axis=0))\n",
    "print(pred.shape)\n",
    "# show the predicion and groud truth\n",
    "print('Inflow prediction:')\n",
    "for i in range(pred_nums):\n",
    "    fig = plt.figure(figsize=(5,2))\n",
    "    ax = fig.add_subplot(121)\n",
    "    ax.set_title('Prediction')\n",
    "    ax.imshow(pred[0][0])\n",
    "    ax = fig.add_subplot(122)\n",
    "    ax.set_title('Ground Truth')\n",
    "    ax.imshow(Y_test[0][0])"
   ]
  },
  {
   "cell_type": "code",
   "execution_count": null,
   "metadata": {
    "collapsed": true
   },
   "outputs": [],
   "source": [
    "# Multi-steps prediction"
   ]
  }
 ],
 "metadata": {
  "kernelspec": {
   "display_name": "Python 3",
   "language": "python",
   "name": "python3"
  },
  "language_info": {
   "codemirror_mode": {
    "name": "ipython",
    "version": 3
   },
   "file_extension": ".py",
   "mimetype": "text/x-python",
   "name": "python",
   "nbconvert_exporter": "python",
   "pygments_lexer": "ipython3",
   "version": "3.5.4"
  }
 },
 "nbformat": 4,
 "nbformat_minor": 2
}
